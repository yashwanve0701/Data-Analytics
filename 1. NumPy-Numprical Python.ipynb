{
 "cells": [
  {
   "cell_type": "code",
   "execution_count": 31,
   "id": "948cd090",
   "metadata": {},
   "outputs": [],
   "source": [
    " import numpy as np"
   ]
  },
  {
   "cell_type": "markdown",
   "id": "632d5605",
   "metadata": {},
   "source": [
    "numpy vs list\n"
   ]
  },
  {
   "cell_type": "code",
   "execution_count": 8,
   "id": "322fd838",
   "metadata": {},
   "outputs": [],
   "source": [
    "from time import process_time as pt"
   ]
  },
  {
   "cell_type": "code",
   "execution_count": 25,
   "id": "fefb1848",
   "metadata": {},
   "outputs": [
    {
     "name": "stdout",
     "output_type": "stream",
     "text": [
      "0.0625\n"
     ]
    }
   ],
   "source": [
    "start=pt()\n",
    "py_list=[i for i in range(1000000)]\n",
    "end=pt()\n",
    "print(end-start)"
   ]
  },
  {
   "cell_type": "code",
   "execution_count": 26,
   "id": "68508aa6",
   "metadata": {},
   "outputs": [
    {
     "name": "stdout",
     "output_type": "stream",
     "text": [
      "0.078125\n"
     ]
    }
   ],
   "source": [
    "start=pt()\n",
    "np_arr=np.array([i for i in range(1000000)])\n",
    "end=pt()\n",
    "print(end-start)"
   ]
  },
  {
   "cell_type": "code",
   "execution_count": 58,
   "id": "25d076ea",
   "metadata": {},
   "outputs": [
    {
     "name": "stdout",
     "output_type": "stream",
     "text": [
      "['yash' 'ravi' 'uday' '2']\n"
     ]
    }
   ],
   "source": [
    "#convert list to numpy array\n",
    "l1=[\"yash\",\"ravi\",\"uday\",2]\n",
    "n=np.asarray(l1)\n",
    "print(n)"
   ]
  },
  {
   "cell_type": "code",
   "execution_count": 61,
   "id": "d6452ec6",
   "metadata": {},
   "outputs": [
    {
     "name": "stdout",
     "output_type": "stream",
     "text": [
      "(5, 4)\n",
      "20\n"
     ]
    }
   ],
   "source": [
    "#analysing a numpy array\n",
    "ran=np.random.randint(10,20,(5,4))\n",
    "print(ran.shape)\n",
    "print(ran.size)"
   ]
  },
  {
   "cell_type": "code",
   "execution_count": 63,
   "id": "76eca677",
   "metadata": {},
   "outputs": [
    {
     "name": "stdout",
     "output_type": "stream",
     "text": [
      "[1, 32, 4, 2, 2, 3, 12, 2, 1, 5]\n"
     ]
    }
   ],
   "source": [
    "#adding two list\n",
    "a=[1,32,4,2,2]\n",
    "b=[3,12,2,1,5]\n",
    "print(a+b)"
   ]
  },
  {
   "cell_type": "code",
   "execution_count": 62,
   "id": "3f8386d8",
   "metadata": {},
   "outputs": [
    {
     "name": "stdout",
     "output_type": "stream",
     "text": [
      "[ 4  5 56  6  4]\n"
     ]
    }
   ],
   "source": [
    "#Adding two np array\n",
    "a=np.array((1,3,4,3,2))\n",
    "b=np.array((3,2,52,3,2))\n",
    "print(a+b)"
   ]
  },
  {
   "cell_type": "code",
   "execution_count": 27,
   "id": "d05e7a74",
   "metadata": {},
   "outputs": [
    {
     "name": "stdout",
     "output_type": "stream",
     "text": [
      "[1, 2, 3, 4]\n"
     ]
    }
   ],
   "source": [
    "l1=[1,2,3,4]\n",
    "print(l1)"
   ]
  },
  {
   "cell_type": "code",
   "execution_count": 34,
   "id": "db7e82c0",
   "metadata": {},
   "outputs": [
    {
     "name": "stdout",
     "output_type": "stream",
     "text": [
      "[1 2 3 4]\n"
     ]
    }
   ],
   "source": [
    "arr=np.array([1,2,3,4])\n",
    "print(np_ar)"
   ]
  },
  {
   "cell_type": "code",
   "execution_count": 35,
   "id": "aaea085e",
   "metadata": {},
   "outputs": [
    {
     "data": {
      "text/plain": [
       "(4,)"
      ]
     },
     "execution_count": 35,
     "metadata": {},
     "output_type": "execute_result"
    }
   ],
   "source": [
    "arr.shape"
   ]
  },
  {
   "cell_type": "code",
   "execution_count": 40,
   "id": "4c6f31ad",
   "metadata": {},
   "outputs": [
    {
     "data": {
      "text/plain": [
       "(3, 4)"
      ]
     },
     "execution_count": 40,
     "metadata": {},
     "output_type": "execute_result"
    }
   ],
   "source": [
    "#2D array\n",
    "td_arr=np.array([(1,2,3,4),(2,3,4,5),(3,4,5,6)])\n",
    "td_arr.shape"
   ]
  },
  {
   "cell_type": "markdown",
   "id": "897f8b29",
   "metadata": {},
   "source": [
    "Initial PlaceHolder in numpy array"
   ]
  },
  {
   "cell_type": "code",
   "execution_count": 43,
   "id": "8ff983a0",
   "metadata": {},
   "outputs": [
    {
     "name": "stdout",
     "output_type": "stream",
     "text": [
      "[[0. 0. 0. 0. 0.]\n",
      " [0. 0. 0. 0. 0.]\n",
      " [0. 0. 0. 0. 0.]\n",
      " [0. 0. 0. 0. 0.]]\n"
     ]
    }
   ],
   "source": [
    "x =np.zeros((4,5))\n",
    "print(x)"
   ]
  },
  {
   "cell_type": "code",
   "execution_count": 45,
   "id": "5ac28e0f",
   "metadata": {},
   "outputs": [
    {
     "name": "stdout",
     "output_type": "stream",
     "text": [
      "[[1. 1. 1.]\n",
      " [1. 1. 1.]]\n"
     ]
    }
   ],
   "source": [
    "y=np.ones((2,3))\n",
    "print(y)"
   ]
  },
  {
   "cell_type": "code",
   "execution_count": 47,
   "id": "1f7cf843",
   "metadata": {},
   "outputs": [
    {
     "name": "stdout",
     "output_type": "stream",
     "text": [
      "[[5 5 5 5 5]\n",
      " [5 5 5 5 5]\n",
      " [5 5 5 5 5]\n",
      " [5 5 5 5 5]]\n"
     ]
    }
   ],
   "source": [
    "z=np.full((4,5),5)\n",
    "print(z)"
   ]
  },
  {
   "cell_type": "code",
   "execution_count": 55,
   "id": "94c0ec49",
   "metadata": {},
   "outputs": [
    {
     "name": "stdout",
     "output_type": "stream",
     "text": [
      "[[12 14 14 18 17]\n",
      " [15 19 16 13 14]\n",
      " [10 17 19 12 10]]\n"
     ]
    }
   ],
   "source": [
    "p=np.random.randint(10,20,(3,5))\n",
    "print(p)"
   ]
  },
  {
   "cell_type": "code",
   "execution_count": null,
   "id": "458f6592",
   "metadata": {},
   "outputs": [],
   "source": []
  },
  {
   "cell_type": "code",
   "execution_count": null,
   "id": "de580505",
   "metadata": {},
   "outputs": [],
   "source": []
  },
  {
   "cell_type": "code",
   "execution_count": null,
   "id": "8a1f311b",
   "metadata": {},
   "outputs": [],
   "source": []
  },
  {
   "cell_type": "code",
   "execution_count": null,
   "id": "b0ed55be",
   "metadata": {},
   "outputs": [],
   "source": []
  }
 ],
 "metadata": {
  "kernelspec": {
   "display_name": "Python 3 (ipykernel)",
   "language": "python",
   "name": "python3"
  },
  "language_info": {
   "codemirror_mode": {
    "name": "ipython",
    "version": 3
   },
   "file_extension": ".py",
   "mimetype": "text/x-python",
   "name": "python",
   "nbconvert_exporter": "python",
   "pygments_lexer": "ipython3",
   "version": "3.9.12"
  }
 },
 "nbformat": 4,
 "nbformat_minor": 5
}
